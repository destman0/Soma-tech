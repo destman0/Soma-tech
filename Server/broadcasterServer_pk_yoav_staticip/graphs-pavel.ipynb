{
 "cells": [
  {
   "cell_type": "code",
   "execution_count": null,
   "metadata": {},
   "outputs": [],
   "source": [
    "import pandas as pd\n",
    "import matplotlib.pyplot as plt\n",
    "\n",
    "def create_graph(file_name, index_name, columns, secondary_column, title = None):\n",
    "    if title is None:\n",
    "        title = file_name\n",
    "    hrvReadings = pd.read_csv(file_name)\n",
    "    hrvReadings['time'] = pd.to_datetime(hrvReadings[index_name])\n",
    "    hrvReadings['since'] = hrvReadings['time'] - hrvReadings['time'].loc[0]\n",
    "    hrvReadings.set_index('since')\n",
    "\n",
    "    hrvAx1 = hrvReadings[columns].plot(kind='line', figsize=(24, 18), title=title)\n",
    "    hrvAx2 = hrvReadings[secondary_column].plot.line(x='since', secondary_y=[secondary_column], stacked=False, alpha=0.3)\n",
    "    hrvAx2.fill_between(hrvReadings.index, 0, hrvReadings[secondary_column], facecolor='grey', alpha=0.3)"
   ]
  }
 ],
 "metadata": {
  "kernelspec": {
   "display_name": "Python 3",
   "language": "python",
   "name": "python3"
  },
  "language_info": {
   "codemirror_mode": {
    "name": "ipython",
    "version": 3
   },
   "file_extension": ".py",
   "mimetype": "text/x-python",
   "name": "python",
   "nbconvert_exporter": "python",
   "pygments_lexer": "ipython3",
   "version": "3.8.3"
  }
 },
 "nbformat": 4,
 "nbformat_minor": 4
}
